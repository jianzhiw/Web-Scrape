{
  "nbformat": 4,
  "nbformat_minor": 0,
  "metadata": {
    "colab": {
      "name": "Public Holiday Scrape.ipynb",
      "provenance": [],
      "collapsed_sections": [],
      "include_colab_link": true
    },
    "kernelspec": {
      "name": "python3",
      "display_name": "Python 3"
    }
  },
  "cells": [
    {
      "cell_type": "markdown",
      "metadata": {
        "id": "view-in-github",
        "colab_type": "text"
      },
      "source": [
        "<a href=\"https://colab.research.google.com/github/jianzhiw/Web-Scrape/blob/master/Public_Holiday_Scrape.ipynb\" target=\"_parent\"><img src=\"https://colab.research.google.com/assets/colab-badge.svg\" alt=\"Open In Colab\"/></a>"
      ]
    },
    {
      "cell_type": "markdown",
      "metadata": {
        "id": "1UKiiexNuqb5",
        "colab_type": "text"
      },
      "source": [
        "# Public Holiday Scraping #\n",
        "\n",
        "A simple web scraping code snippet that uses Python and Google Colab Forms to obtain public holiday for the states in Malaysia.\n",
        "\n",
        "It goes to [this](https://publicholidays.com.my) website to get the table data, convert into pandas table and store it as csv file."
      ]
    },
    {
      "cell_type": "code",
      "metadata": {
        "id": "z1-L2pG2BfRY",
        "colab_type": "code",
        "colab": {},
        "cellView": "form"
      },
      "source": [
        "#@title Insert Holiday Year and State in Malaysia\n",
        "Year = 2019 #@param {type:\"integer\"}\n",
        "#State = \"Kuala Lumpur\" #@param {type:\"string\"}\n",
        "State = \"Selangor\" #@param [\"Johor\", \"Kedah\", \"Kelantan\", \"Kuala Lumpur\", \"Labuan\", \"Melaka\", \"Negeri Sembilan\", \"Pahang\", \"Penang\", \"Perak\", \"Perlis\", \"Putrajaya\", \"Sabah\", \"Sarawak\", \"Selangor\", \"Terengganu\"] \n",
        "\n",
        "from bs4 import BeautifulSoup\n",
        "import re\n",
        "import requests\n",
        "import pandas as pd\n",
        "\n",
        "data = []\n",
        "\n",
        "url = \"https://publicholidays.com.my/\"+State+\"/\"+str(Year)+\"-dates/\"\n",
        "respond = requests.get(url)\n",
        "soup = BeautifulSoup(respond.text)\n",
        "table = soup.find('table', {'class': 'publicholidays'})\n",
        "\n",
        "try:\n",
        "    rows = table.find_all('tr')[1:-1]\n",
        "    for row in rows:\n",
        "        cols = row.find_all('td')\n",
        "        a = [col.text for col in cols]\n",
        "        data.append(a)\n",
        "\n",
        "    header = ['Date', 'Day', 'Holiday']\n",
        "    df = pd.DataFrame(data, columns=header)\n",
        "    df['Date'] = df['Date'] + \" \" + str(Year)\n",
        "    print('Public Holiday for {} in {}'.format(State, Year))\n",
        "    print(df)\n",
        "    df.to_csv('Public Holiday for {} in {}.csv'.format(State, Year), index=False)\n",
        "except:\n",
        "    print(\"Item not found!\")"
      ],
      "execution_count": 0,
      "outputs": []
    }
  ]
}