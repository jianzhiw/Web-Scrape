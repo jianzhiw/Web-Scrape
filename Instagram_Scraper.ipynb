{
  "nbformat": 4,
  "nbformat_minor": 0,
  "metadata": {
    "colab": {
      "name": "Instagram Scraper.ipynb",
      "version": "0.3.2",
      "provenance": [],
      "collapsed_sections": [],
      "include_colab_link": true
    },
    "kernelspec": {
      "name": "python3",
      "display_name": "Python 3"
    }
  },
  "cells": [
    {
      "cell_type": "markdown",
      "metadata": {
        "id": "view-in-github",
        "colab_type": "text"
      },
      "source": [
        "<a href=\"https://colab.research.google.com/github/jianzhiw/Web-Scrape/blob/master/Instagram_Scraper.ipynb\" target=\"_parent\"><img src=\"https://colab.research.google.com/assets/colab-badge.svg\" alt=\"Open In Colab\"/></a>"
      ]
    },
    {
      "cell_type": "markdown",
      "metadata": {
        "id": "LgHRGugGCz1f",
        "colab_type": "text"
      },
      "source": [
        "[Source](https://github.com/rarcega/instagram-scraper)"
      ]
    },
    {
      "cell_type": "code",
      "metadata": {
        "id": "GItVkxNkCDMc",
        "colab_type": "code",
        "colab": {}
      },
      "source": [
        "!pip install instagram-scraper"
      ],
      "execution_count": 0,
      "outputs": []
    },
    {
      "cell_type": "code",
      "metadata": {
        "id": "EOgxakpXCYSM",
        "colab_type": "code",
        "colab": {}
      },
      "source": [
        "# Change the user that you want to search\n",
        "# by modifying the text below\n",
        "\n",
        "username = 'username'"
      ],
      "execution_count": 0,
      "outputs": []
    },
    {
      "cell_type": "code",
      "metadata": {
        "id": "acV7KT-QCd4T",
        "colab_type": "code",
        "colab": {}
      },
      "source": [
        "!instagram-scraper $username --media-metadata --media-types none"
      ],
      "execution_count": 0,
      "outputs": []
    },
    {
      "cell_type": "code",
      "metadata": {
        "id": "TDPay5jPCgcz",
        "colab_type": "code",
        "colab": {}
      },
      "source": [
        "import pandas as pd\n",
        "import json\n",
        "from datetime import datetime\n",
        "from pandas.io.json import json_normalize"
      ],
      "execution_count": 0,
      "outputs": []
    },
    {
      "cell_type": "code",
      "metadata": {
        "id": "HakkGNb6Ci7s",
        "colab_type": "code",
        "colab": {}
      },
      "source": [
        "with open(username+'/'+username+'.json', 'r') as myfile:\n",
        "  data = myfile.read()\n",
        "  \n",
        "obj = json.loads(data)"
      ],
      "execution_count": 0,
      "outputs": []
    },
    {
      "cell_type": "code",
      "metadata": {
        "id": "6AfkonnICk4K",
        "colab_type": "code",
        "colab": {}
      },
      "source": [
        "df = pd.DataFrame({'Date': [], 'Image URL': [], 'Caption': [], 'Likes': [], 'Comments': []})\n",
        "# Change the range according to the number of post\n",
        "for i in range(0,5607):\n",
        "  timestamp = obj['GraphImages'][i]['taken_at_timestamp']\n",
        "  date = datetime.fromtimestamp(timestamp)\n",
        "  url = obj['GraphImages'][i]['display_url']\n",
        "  \n",
        "  # Some post have no caption so use try catch block\n",
        "  try:\n",
        "    caption = obj['GraphImages'][i]['edge_media_to_caption']['edges'][0]['node']['text']\n",
        "  except IndexError:\n",
        "    caption = \"\"\n",
        "    \n",
        "  likes = obj['GraphImages'][i]['edge_media_preview_like']['count']\n",
        "  comments = obj['GraphImages'][i]['edge_media_to_comment']['count']\n",
        "  df = df.append({'Date': date, 'Image URL': url, 'Caption': caption, 'Likes': likes, \n",
        "                  'Comments': comments}, ignore_index=True)"
      ],
      "execution_count": 0,
      "outputs": []
    }
  ]
}